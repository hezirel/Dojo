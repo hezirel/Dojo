{
 "cells": [
  {
   "outputs": [],
   "cell_type": "markdown",
   "source": [
    "# Tutorial 2: Working with data in Julia\n",
    "\n",
    "What's covered:\n",
    " - Multi-dimsional [Array assignment](https://docs.julialang.org/en/v1/base/arrays/#Indexing-and-assignment-1)\n",
    " - [Cartesian Index](https://docs.julialang.org/en/v1/base/arrays/#Base.IteratorsMD.CartesianIndices)\n",
    " - Dot Operators\n",
    " - Generating matrixes of zeros, ones, diaganols\n",
    " - Random numbers, seeds with Random.seed!, and generating random matrixes\n",
    " - [Reading in a file, line by line into a string](https://en.wikibooks.org/wiki/Introducing_Julia/Working_with_text_files)\n",
    " - Using BSON.jl for serialization: read/write, talk about JuliaIO"
   ],
   "metadata": {}
  },
  {
   "outputs": [],
   "cell_type": "markdown",
   "source": [
    "## Library Imports\n",
    "We need test, for access to `@test`and Random."
   ],
   "metadata": {}
  },
  {
   "outputs": [],
   "cell_type": "code",
   "source": [
    "using Test\n",
    "using Random\n",
    "@show a"
   ],
   "metadata": {},
   "execution_count": null
  },
  {
   "outputs": [],
   "cell_type": "markdown",
   "source": [
    "# Multi-dimsional Assignment\n",
    "For multideminsional arrays, we have to do assignment within brackets\n",
    "Let x be a multidemisional array of zeros, set the first row equal to ones"
   ],
   "metadata": {}
  },
  {
   "outputs": [],
   "cell_type": "code",
   "source": [
    "x = zeros(3,3)\n",
    "y = zeros(3,3)\n",
    "y[1,1] = 1\n",
    "y[2,1] = 1\n",
    "y[3,1] = 1\n",
    "@test x == y"
   ],
   "metadata": {},
   "execution_count": null
  },
  {
   "outputs": [],
   "cell_type": "markdown",
   "source": [
    "# Cartesian Indexies\n",
    "Sometimes we want to be able to pass around a multidimensional array Index"
   ],
   "metadata": {}
  },
  {
   "outputs": [],
   "cell_type": "code",
   "source": [
    "ind = CartesianIndex()\n",
    "#= Change the arguments of Cartesian Index so ind variable is correct =#\n",
    "marray = reshape(1:16, (2,2,2,2))\n",
    "@test marray[ind] == 8"
   ],
   "metadata": {},
   "execution_count": null
  },
  {
   "outputs": [],
   "cell_type": "markdown",
   "source": [
    "# Dot Operators\n",
    "When working with a function in julia, we can apply it element-wise to a an array by\n",
    "using the dot operator. For instance, a vector x, in the experssion \"x .* 3\" would be\n",
    "element-wise times 3.\n",
    "Using the function `add_eleven_to_arg`, apply it element-wise to our multi-dimensional array, `marray`"
   ],
   "metadata": {}
  },
  {
   "outputs": [],
   "cell_type": "code",
   "source": [
    "function add_eleven_to_arg(x)\n",
    "  return x + 11\n",
    "end\n",
    "x = zeros(5)\n",
    "#= set xtransformed as a function of x and add_eleven_to_arg =#\n",
    "xtransformed = x # Modify me !\n",
    "@test xtransformed == repeat([11],5)"
   ],
   "metadata": {},
   "execution_count": null
  },
  {
   "outputs": [],
   "cell_type": "markdown",
   "source": [
    "# Initialize Arrays w/ Zero, Ones\n",
    "There are a few standard ways to initialize Arrays.\n",
    "The basic form is `fn(TYPE, DIM)` whre fn is one of `zeros`, `ones`, and equivelently, `fill`.\n",
    "use `fill` to get the following functions to work"
   ],
   "metadata": {}
  },
  {
   "outputs": [],
   "cell_type": "code",
   "source": [
    "mat_ones = ones() # change this to a call to fill\n",
    "mat_zeros = zeros() # change this to a fill call\n",
    "@test ones(10,10,10) == mat_ones\n",
    "@test zeros(10, 10, 10) == mat_zeros"
   ],
   "metadata": {},
   "execution_count": null
  },
  {
   "outputs": [],
   "cell_type": "markdown",
   "source": [
    "# Random\n",
    "Julia gives you a few tools for manipulating random numbers."
   ],
   "metadata": {}
  },
  {
   "outputs": [],
   "cell_type": "code",
   "source": [
    "myseed = 1 #= set the myseed equal to something else, besides 1 =#\n",
    "Random.seed!(myseed)\n",
    "@test rand(1:10^20) == 6712802529292398594"
   ],
   "metadata": {},
   "execution_count": null
  },
  {
   "outputs": [],
   "cell_type": "markdown",
   "source": [
    "# Random: Explicitly setting the set\n",
    "Given that we know the seed is 2, call rand w/ with range 1:10^20\n",
    "without using the Random.seed! call"
   ],
   "metadata": {}
  },
  {
   "outputs": [],
   "cell_type": "code",
   "source": [
    "myseed = 2\n",
    "#= set random_num below =#\n",
    "random_num = rand(1:10^20)\n",
    "@test random_num == 6712802529292398594"
   ],
   "metadata": {},
   "execution_count": null
  },
  {
   "outputs": [],
   "cell_type": "markdown",
   "source": [
    "# Read a file in line by line\n",
    "in julia we can read a file in, line by line"
   ],
   "metadata": {}
  },
  {
   "outputs": [],
   "cell_type": "code",
   "source": [
    "in_file = \"../src/assets/t002_data_ingestion/basic.txt\"\n",
    "file_contents = in_file\n",
    "#= read in_file into file_contents =#\n",
    "@test file_contents == \"apple\\nbanana\\norange\\npear\\ngrapes\\n\""
   ],
   "metadata": {},
   "execution_count": null
  },
  {
   "outputs": [],
   "cell_type": "markdown",
   "source": [
    "# Using BSON\n",
    "imports.\n",
    "WIP"
   ],
   "metadata": {}
  },
  {
   "outputs": [],
   "cell_type": "code",
   "source": [
    "using BSON\n",
    "dir = \"../src/assets/t002_data_ingestion/\"\n",
    "@test true\n",
    "\n",
    "\n",
    "#= end module =#"
   ],
   "metadata": {},
   "execution_count": null
  },
  {
   "outputs": [],
   "cell_type": "markdown",
   "source": [
    "*This notebook was generated using [Literate.jl](https://github.com/fredrikekre/Literate.jl).*"
   ],
   "metadata": {}
  }
 ],
 "nbformat_minor": 3,
 "metadata": {
  "language_info": {
   "file_extension": ".jl",
   "mimetype": "application/julia",
   "name": "julia",
   "version": "1.2.0"
  },
  "kernelspec": {
   "name": "julia-1.2",
   "display_name": "Julia 1.2.0",
   "language": "julia"
  }
 },
 "nbformat": 4
}
