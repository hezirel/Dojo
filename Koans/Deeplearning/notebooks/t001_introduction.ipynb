{
 "cells": [
  {
   "outputs": [],
   "cell_type": "markdown",
   "source": [
    "# Tutorial 1: Introduction to Julia and Koans\n",
    "\n",
    "In this tutorial we will cover the following\n",
    " - Julia basics\n",
    " - What is a Koan\n",
    " - Functions\n",
    " - Methods\n",
    " - Abstract Data Types\n",
    " - Arrays\n",
    " - Types\n",
    " - Control flow\n",
    " - Macros"
   ],
   "metadata": {}
  },
  {
   "outputs": [],
   "cell_type": "markdown",
   "source": [
    "Problem Statement: In our first tutorial, we want to get used to the concent of using IPython Notebeoks\n",
    "with Julia to solve Koans, and gain some exposure to programming concepts in Julia, and well as introduce\n",
    "Flux.jl from a high level\n",
    "\n",
    "\n",
    "# Setup\n",
    "We will need to load in Flux"
   ],
   "metadata": {}
  },
  {
   "outputs": [],
   "cell_type": "code",
   "source": [
    "using Test\n",
    "using Flux\n",
    "include(\"../src/check_cuda.jl\")\n",
    "print_system_gpu_status()"
   ],
   "metadata": {},
   "execution_count": null
  },
  {
   "outputs": [],
   "cell_type": "markdown",
   "source": [
    "# What's a koan?\n",
    "A Koan is a paradoxical anecdote or riddle, used in Zen Buddhism to demonstrate the inadequacy of logical reasoning and to provoke enlightenment.\n",
    "For us, Koans will be used to teach the concepts of Deep Learning in Julia, and we'll try to keep it all very logical. :)\n",
    "To \"solve\" a koan, you will be required to add a line of code to the cell, which will allow a final\n",
    "assertion to pass. For instance:"
   ],
   "metadata": {}
  },
  {
   "outputs": [],
   "cell_type": "code",
   "source": [
    "x = 1\n",
    "@test x == y"
   ],
   "metadata": {},
   "execution_count": null
  },
  {
   "outputs": [],
   "cell_type": "markdown",
   "source": [
    "This can be solved in ONE conventional way:\n",
    "- By defining a new variable `y = 1`\n",
    "\n",
    "Thus, for the sake of these Koans, we suppose the @test statement does not need to be modified\n",
    "in order to solve the problem!\n",
    "Basically anything goes, as long as `@test x == ...` is not modified into `@test true`"
   ],
   "metadata": {}
  },
  {
   "outputs": [],
   "cell_type": "markdown",
   "source": [
    "# A 0th Koan\n",
    "This Koan serves only to introduce you to Koans, and the directory structure of the project.\n",
    "To Solve this Koan, find this notebook definition in the source code, and figure out what\n",
    "we should set `x` to be to pass the assertion"
   ],
   "metadata": {}
  },
  {
   "outputs": [],
   "cell_type": "code",
   "source": [
    "using Random\n",
    "aboutkoan = \"set the myseed equal to something else, besides 1\"\n",
    "myseed = 1\n",
    "Random.seed!(myseed)\n",
    "@test rand(1:10^20) == 5590813852184710016"
   ],
   "metadata": {},
   "execution_count": null
  },
  {
   "outputs": [],
   "cell_type": "markdown",
   "source": [
    "Thus, by looking in \"src/t001_introduction.jl\", you can find the defition of the function in markup.\n",
    "Missing lines will have a \"#src\" comment. These usually contain the information needed to complete\n",
    "the koan.\n",
    "If you are ever stuck, you can always look up the markup defition, and find a working solution to\n",
    "get the assertion to pass!"
   ],
   "metadata": {}
  },
  {
   "outputs": [],
   "cell_type": "markdown",
   "source": [
    "# A Function Koan\n",
    "Create a function, `f`, such that our assert function passes\n",
    "and f is a unary, or single argument function.\n",
    "More on functions can be found within the [Julia Docs](https://docs.julialang.org/en/v1/manual/functions/#man-functions-1)."
   ],
   "metadata": {}
  },
  {
   "outputs": [],
   "cell_type": "code",
   "source": [
    "function f(arg) # modify the next line to return the argument...\n",
    "end\n",
    "x = 1\n",
    "@test [f(x) for x in 1:10] == 1:10"
   ],
   "metadata": {},
   "execution_count": null
  },
  {
   "outputs": [],
   "cell_type": "markdown",
   "source": [
    "# An Overloaded Function Koan\n",
    "Starting with `f` which accepts a String and returns an `Int64`, make two modifications:\n",
    "- Overload  `f` to accept an `Int64` and returns 0 of type `Int64`\n",
    "- Overload  `f` so it accepts a `Float64` and return 1 of type `Int64`\n",
    "\n",
    "Thus `f` is known as a \"Method\". [Julia Docs](https://docs.julialang.org/en/v1/manual/methods/)"
   ],
   "metadata": {}
  },
  {
   "outputs": [],
   "cell_type": "code",
   "source": [
    "x_float = convert(Float64, 1)\n",
    "x_int = convert(Int64, 1)\n",
    "\n",
    "f(x::String)::Int64 = 10\n",
    "@test f(x_int) == f(x_float) + 1 && x_int == f(x_int)"
   ],
   "metadata": {},
   "execution_count": null
  },
  {
   "outputs": [],
   "cell_type": "markdown",
   "source": [
    "Notice that running this cell without modification returns a `MethodError: no method matching ...`\n",
    "and then the type signature of the function at the invocation. When you see a MethodError, it's\n",
    "a huge clue that you are"
   ],
   "metadata": {}
  },
  {
   "outputs": [],
   "cell_type": "markdown",
   "source": [
    "# A Struct Koan\n",
    "Structs are just simple data containers in Julia. [Docs](https://docs.julialang.org/en/v1/base/base/#struct)\n",
    "Create a simple struct Point, with two accessors, x and y"
   ],
   "metadata": {}
  },
  {
   "outputs": [],
   "cell_type": "code",
   "source": [
    "struct Point\n",
    "  x\n",
    "  y\n",
    "end\n",
    "@test Point(1,1).x == Point(1,1).y"
   ],
   "metadata": {},
   "execution_count": null
  },
  {
   "outputs": [],
   "cell_type": "markdown",
   "source": [
    "# A Mutable Struct\n",
    "Taking our point struct from the previous koan, get the following to work\n",
    "by re-writing Point as a mutable struct `PointMutable`"
   ],
   "metadata": {}
  },
  {
   "outputs": [],
   "cell_type": "code",
   "source": [
    "struct Point\n",
    "  x\n",
    "  y\n",
    "end\n",
    "\n",
    "\n",
    "p1 = Point(0,0)\n",
    "p2 = Point(1,1)\n",
    "setfield!(p2, :x, getfield(p1, :x))\n",
    "setfield!(p2, :y, getfield(p1, :y))\n",
    "@test p1.x == p2.x"
   ],
   "metadata": {},
   "execution_count": null
  },
  {
   "outputs": [],
   "cell_type": "markdown",
   "source": [
    "Create a stuct, `s`, that will satisfy the following conditions:\n",
    "- Struct S has a field x\n",
    "- Struct S has an inner constructor that accepts no arguments and sets x to 42.\n",
    "[Julia Docs on Inner Constructor Methods](https://docs.julialang.org/en/v1/manual/constructors/#Inner-Constructor-Methods-1)"
   ],
   "metadata": {}
  },
  {
   "outputs": [],
   "cell_type": "code",
   "source": [
    "struct S\n",
    "end\n",
    "@test S().x == 42"
   ],
   "metadata": {},
   "execution_count": null
  },
  {
   "outputs": [],
   "cell_type": "markdown",
   "source": [
    "Note, this might seem a little esoteric, but this technique is a very common way to initialize a struct to default values."
   ],
   "metadata": {}
  },
  {
   "outputs": [],
   "cell_type": "markdown",
   "source": [
    "# Array Koans\n",
    "[Julia Docs: Array Page](https://docs.julialang.org/en/v1/base/arrays/)\n",
    "We can create random arrays using the `zeros` or `ones` function\n",
    "Use either one of these to create a 10x10x10 matrix, and get its shape or `size`"
   ],
   "metadata": {}
  },
  {
   "outputs": [],
   "cell_type": "code",
   "source": [
    "mat = rand(10) # change the call to rand, (_add more args)\n",
    "@test size(mat) == (10, 10, 10)"
   ],
   "metadata": {},
   "execution_count": null
  },
  {
   "outputs": [],
   "cell_type": "markdown",
   "source": [
    "# Initialize Arrays\n",
    "There are a few standard ways to initialize Arrays.\n",
    "The basic form is `fn(TYPE, DIM)` whre fn is one of `zeros`, `ones`, and equivelently, `fill`.\n",
    "use `fill` to get the following functions to work"
   ],
   "metadata": {}
  },
  {
   "outputs": [],
   "cell_type": "code",
   "source": [
    "mat_ones = ones() # change this to a call to fill\n",
    "mat_zeros = zeros() # change this to a fill call\n",
    "@test ones(10,10,10) == mat_ones\n",
    "@test zeros(10, 10, 10) == mat_zeros"
   ],
   "metadata": {},
   "execution_count": null
  },
  {
   "outputs": [],
   "cell_type": "markdown",
   "source": [
    "# Array Indexing\n",
    "For a 10x10x10 array, get the item at the (4,5,6) position"
   ],
   "metadata": {}
  },
  {
   "outputs": [],
   "cell_type": "code",
   "source": [
    "mat = reshape(1:1000, 10, 10, 10)\n",
    "#= set mat_value to be a value inside mat =#\n",
    "@test 544 == mat_value"
   ],
   "metadata": {},
   "execution_count": null
  },
  {
   "outputs": [],
   "cell_type": "markdown",
   "source": [
    "# Array slicing\n",
    "For our same 10x10x10 sequential matrix, we want to take:\n",
    "- The first item in the first dimension\n",
    "- All the items in the second dimension\n",
    "- The fourth item in the third dimension\n",
    "Note: Every item in mat has 3 dimensions. This solution will be the collection of items that is the intersection\n",
    "between the set of items with their first dimension equal to 1, and their second dimension equal to 4."
   ],
   "metadata": {}
  },
  {
   "outputs": [],
   "cell_type": "code",
   "source": [
    "about_koan = \"set a variable mat_value equal to the slice...\"\n",
    "@test mat_value == [301, 311, 321, 331, 341, 351, 361, 371, 381, 391]"
   ],
   "metadata": {},
   "execution_count": null
  },
  {
   "outputs": [],
   "cell_type": "markdown",
   "source": [
    "For more information, see `Base.Colon` in the [Julia Docs](https://docs.julialang.org/en/v1/base/arrays/#Base.Colon)"
   ],
   "metadata": {}
  },
  {
   "outputs": [],
   "cell_type": "markdown",
   "source": [
    "# Array CheckBounds\n",
    "Using the `checkbounds function` [Julia Docs: Base.checkbounds](https://docs.julialang.org/en/v1/base/arrays/#Base.checkbounds)\n",
    "Fix the following function to access the array, or return 0 if the bounds are violated"
   ],
   "metadata": {}
  },
  {
   "outputs": [],
   "cell_type": "code",
   "source": [
    "function wrap_checkbound(M, i, j)\n",
    "  if status # define status variable or re-write w/ a call to checkbounds\n",
    "  else\n",
    "    return 0\n",
    "  end\n",
    "end\n",
    "mat = ones(3,3)\n",
    "@test wrap_checkbound(mat, 3, 3) == 1\n",
    "@test wrap_checkbound(mat, 1, 3) == 1\n",
    "@test wrap_checkbound(mat, 1, 0) == 0\n",
    "@test wrap_checkbound(mat, 0, 0) == 0\n",
    "@test wrap_checkbound(mat, 0, 1) == 0"
   ],
   "metadata": {},
   "execution_count": null
  },
  {
   "outputs": [],
   "cell_type": "markdown",
   "source": [
    "Hopefully this helps you remember that arrays are 1-indexed, but if you forget, you can always\n",
    "write your code to use check_bound and not worry about it!"
   ],
   "metadata": {}
  },
  {
   "outputs": [],
   "cell_type": "markdown",
   "source": [
    "# Array Reshaping\n",
    "Say we have an image library of 28 height, 28 width Black and White pixel images, and we have 400 of them.\n",
    "Use the function, resahpe, to transform this into WHCN format, which stands for (Width) (Height) (Channel)\n",
    "(Number of Examples). For us, we want 1 channel."
   ],
   "metadata": {}
  },
  {
   "outputs": [],
   "cell_type": "code",
   "source": [
    "old_mat = rand(28,28, 400)\n",
    "new_mat = reshape(old_mat, 28, 28, 400) # CHANGE THIS LINE\n",
    "@test size(new_mat) == (28, 28, 1, 400)"
   ],
   "metadata": {},
   "execution_count": null
  },
  {
   "outputs": [],
   "cell_type": "markdown",
   "source": [
    "# Types\n",
    "Type level programming is a big part of Julia, and the [Docs](https://docs.julialang.org/en/v1/manual/types/) are a great place for in-depth information.\n",
    "To start, useful function in Julia to inspect types at runtime is the 'typeof' functions.\n",
    "Since we just covered Arrays, lets start off by using the \"typeof\" function to\n",
    "satisfy three assertions."
   ],
   "metadata": {}
  },
  {
   "outputs": [],
   "cell_type": "code",
   "source": [
    "mat_single = zeros(0)\n",
    "@test typeof(mat_single) == Array{Float64,1}"
   ],
   "metadata": {},
   "execution_count": null
  },
  {
   "outputs": [],
   "cell_type": "markdown",
   "source": [
    "Thus, we can take the results of typeof, `Array{T, N}` and call this as a function to initialize\n",
    "an array, without any values, if need be. Types are a big subject in Julia, but there are a couple\n",
    "things you should know:\n",
    "- Types are dynamic, they are runtime, not compile-time objects, and they can change over time for a symbol\n",
    "- Julia uses \"Gradual Typing\" which is a technical term for saying, \"you can skip type annotations if you don't know or feel like adding them\"\n",
    "- Julia allows both concrete types you can work with, and abstract types, which can be used to parameterize other functions and types.\n",
    "\n",
    "For practical programming, types give us a few advantages\n",
    "- They speed up run time, since we can compile away dynamic dispatch\n",
    "- They make code \"safer\" preventing us from misusing functions, and giving us better error messages when we call a function with incorrect arguments.\n",
    "\n",
    "However, for these advantages, we add considerable complexity, and probably the nicest feature of Julia's type system is that we don't have to worry about types if we\n",
    "really dont' have the overhead!"
   ],
   "metadata": {}
  },
  {
   "outputs": [],
   "cell_type": "markdown",
   "source": [
    "# Abstract Types\n",
    "Abstract Types cannot be instantiated, but they can be used for dispatching functions and pattern\n",
    "matching arguments.\n",
    "The basic form of an Abstract Type \"Is parent of\" relationship is: \"T <: U\" which says:\n",
    "- U is a Parent Type of T\n",
    "- and \"U <: T\" evaluetes, as always during runtime, to a boolean value!"
   ],
   "metadata": {}
  },
  {
   "outputs": [],
   "cell_type": "code",
   "source": [
    "abstract type MyCustomType end\n",
    "IntegerParent = MyCustomType # replace MyCustomType with something else\n",
    "Float64Parent = MyCustomType # replace MyCustomType with something else\n",
    "\n",
    "@test Integer <: IntegerParent\n",
    "@test Float64 <: Float64Parent"
   ],
   "metadata": {},
   "execution_count": null
  },
  {
   "outputs": [],
   "cell_type": "markdown",
   "source": [
    "Note: These are kind of tricky without looking in the [Julia Docs on Abstract Types](https://docs.julialang.org/en/v1/manual/types/)\n",
    "which will explain the numerical hierarchy."
   ],
   "metadata": {}
  },
  {
   "outputs": [],
   "cell_type": "markdown",
   "source": [
    "# Control flow / ifelse\n",
    "First, we'll start with ifelse, which accepts a boolean and returns\n",
    "the first argument if the boolean in true, else returns the second\n",
    "Use if else to map [true, false, false] onto [1, \"banana\", \"banana\"]"
   ],
   "metadata": {}
  },
  {
   "outputs": [],
   "cell_type": "code",
   "source": [
    "bool_vec = [true, false, false]\n",
    "target = [1, \"banana\", \"banana\"]\n",
    "fn(bools) = bools # REWRITE THIS FUNCTION using ifelse\n",
    "@test fn(bool_vec) == target"
   ],
   "metadata": {},
   "execution_count": null
  },
  {
   "outputs": [],
   "cell_type": "markdown",
   "source": [
    "Additionally, we notice the type of \"target\" is `Array{Any, 1}`, which is a hetergeneous array."
   ],
   "metadata": {}
  },
  {
   "outputs": [],
   "cell_type": "markdown",
   "source": [
    "# Control Flow / if else elseif end\n",
    "Using an enum defintion provided, use an if/elseif/else to match the first, second, and rest\n",
    "of enums, in order, returning -1, 0, 1, for (e1, e2, e3)"
   ],
   "metadata": {}
  },
  {
   "outputs": [],
   "cell_type": "code",
   "source": [
    "@enum BasicEnum begin\n",
    "  e1\n",
    "  e2\n",
    "  e3\n",
    "end\n",
    "\n",
    "about_koan = \"write this function, matching on arg\"\n",
    "function match_enum(arg::BasicEnum)\n",
    "    return -1\n",
    "end\n",
    "\n",
    "@test match_enum(e1) == -1\n",
    "@test match_enum(e2) == 0\n",
    "@test match_enum(e3) == 1"
   ],
   "metadata": {},
   "execution_count": null
  },
  {
   "outputs": [],
   "cell_type": "markdown",
   "source": [
    "# Control Flow / for loop\n",
    "Julia has for loops compile to be just as fast as vectorized code,\n",
    "Thus we can write some code to sum all the numbers in a matrix using a for loop."
   ],
   "metadata": {}
  },
  {
   "outputs": [],
   "cell_type": "code",
   "source": [
    "#= a basic for loop would be =#\n",
    "vec = 1:10;\n",
    "mutable struct Count\n",
    "  x :: Int64\n",
    "end\n",
    "c = Count(0) # add a for loop below to iterate over vec and add each element to c\n",
    "@test c.x == Count(55).x\n",
    "\n",
    "#= end module =#"
   ],
   "metadata": {},
   "execution_count": null
  },
  {
   "outputs": [],
   "cell_type": "markdown",
   "source": [
    "*This notebook was generated using [Literate.jl](https://github.com/fredrikekre/Literate.jl).*"
   ],
   "metadata": {}
  }
 ],
 "nbformat_minor": 3,
 "metadata": {
  "language_info": {
   "file_extension": ".jl",
   "mimetype": "application/julia",
   "name": "julia",
   "version": "1.2.0"
  },
  "kernelspec": {
   "name": "julia-1.2",
   "display_name": "Julia 1.2.0",
   "language": "julia"
  }
 },
 "nbformat": 4
}
